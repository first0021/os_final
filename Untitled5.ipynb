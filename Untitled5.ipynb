{
  "nbformat": 4,
  "nbformat_minor": 0,
  "metadata": {
    "colab": {
      "provenance": []
    },
    "kernelspec": {
      "name": "python3",
      "display_name": "Python 3"
    },
    "language_info": {
      "name": "python"
    }
  },
  "cells": [
    {
      "cell_type": "code",
      "execution_count": null,
      "metadata": {
        "id": "v8_tclsESFSw"
      },
      "outputs": [],
      "source": [
        "รหัสนักศึกษา 6304101337\n",
        "ชื่อ นามสกุล นนทวัฒน์ กันทะวงค์ \n",
        "กลุ่มเรียน Sec2"
      ]
    }
  ]
}